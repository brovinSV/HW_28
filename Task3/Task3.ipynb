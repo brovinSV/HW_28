{
 "cells": [
  {
   "cell_type": "code",
   "execution_count": null,
   "id": "0ccd8744",
   "metadata": {},
   "outputs": [],
   "source": [
    "\"\"\"\n",
    "3. Знайти мінімальний об'єм вибірки, при якому з надійністю y=0,99 точність оцінки\n",
    "математичного сподівання a нормально розподіленої ознаки дорівнює δ=0,6, якщо середнє\n",
    "квадратичне відхилення σ=3.\n",
    "\"\"\""
   ]
  },
  {
   "cell_type": "code",
   "execution_count": 1,
   "id": "5a292140",
   "metadata": {},
   "outputs": [],
   "source": [
    "import math\n",
    "y = 0.99\n",
    "delta = 0.6\n",
    "sigma = 3"
   ]
  },
  {
   "cell_type": "code",
   "execution_count": 5,
   "id": "b645db27",
   "metadata": {},
   "outputs": [],
   "source": [
    "z = 2.576 # критичне значення стандартного нормального розподілу для y=0,99\n",
    "n = math.ceil(((z * sigma) / delta)**2)"
   ]
  },
  {
   "cell_type": "code",
   "execution_count": 3,
   "id": "9221576e",
   "metadata": {},
   "outputs": [
    {
     "name": "stdout",
     "output_type": "stream",
     "text": [
      "Мінімальний об'єм вибірки: 166\n"
     ]
    }
   ],
   "source": [
    "print(\"Мінімальний об'єм вибірки:\", n)"
   ]
  },
  {
   "cell_type": "code",
   "execution_count": null,
   "id": "165c350d",
   "metadata": {},
   "outputs": [],
   "source": []
  }
 ],
 "metadata": {
  "kernelspec": {
   "display_name": "Python 3",
   "language": "python",
   "name": "python3"
  },
  "language_info": {
   "codemirror_mode": {
    "name": "ipython",
    "version": 3
   },
   "file_extension": ".py",
   "mimetype": "text/x-python",
   "name": "python",
   "nbconvert_exporter": "python",
   "pygments_lexer": "ipython3",
   "version": "3.8.10"
  }
 },
 "nbformat": 4,
 "nbformat_minor": 5
}
