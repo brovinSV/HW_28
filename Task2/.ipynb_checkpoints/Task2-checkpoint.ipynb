{
 "cells": [
  {
   "cell_type": "code",
   "execution_count": null,
   "id": "dbde309c",
   "metadata": {},
   "outputs": [],
   "source": [
    "\"\"\"\n",
    "Знайти з надійністю y=0,95 інтервальну оцінку для ймовірності настання події A в кожному\n",
    "із n=100 незалежних повторних випробувань, якщо подія відбулась m=40 раз.\n",
    "\"\"\""
   ]
  },
  {
   "cell_type": "code",
   "execution_count": 1,
   "id": "aa762c9d",
   "metadata": {},
   "outputs": [],
   "source": [
    "import math\n",
    "from scipy.stats import norm"
   ]
  },
  {
   "cell_type": "code",
   "execution_count": 2,
   "id": "cee39ae7",
   "metadata": {},
   "outputs": [],
   "source": [
    "n = 100\n",
    "m = 40\n",
    "y = 0.95"
   ]
  },
  {
   "cell_type": "code",
   "execution_count": 3,
   "id": "365e20ee",
   "metadata": {},
   "outputs": [],
   "source": [
    "p = m / n\n",
    "z = abs(norm.ppf((1 - y) / 2))\n",
    "a = z ** 2 / (2 * n)\n",
    "b = z * math.sqrt(p * (1 - p) / n + z ** 2 / (4 * n ** 2))\n",
    "p_ci = [(p + a - b) / (1 + a), (p + a + b) / (1 + a)]"
   ]
  },
  {
   "cell_type": "code",
   "execution_count": 4,
   "id": "ef7cd32e",
   "metadata": {},
   "outputs": [
    {
     "name": "stdout",
     "output_type": "stream",
     "text": [
      "Інтервальна оцінка для ймовірності настання події A: [0.3152, 0.5074]\n"
     ]
    }
   ],
   "source": [
    "print(f\"Інтервальна оцінка для ймовірності настання події A: [{p_ci[0]:.4f}, {p_ci[1]:.4f}]\")"
   ]
  },
  {
   "cell_type": "code",
   "execution_count": null,
   "id": "3363531e",
   "metadata": {},
   "outputs": [],
   "source": []
  }
 ],
 "metadata": {
  "kernelspec": {
   "display_name": "Python 3",
   "language": "python",
   "name": "python3"
  },
  "language_info": {
   "codemirror_mode": {
    "name": "ipython",
    "version": 3
   },
   "file_extension": ".py",
   "mimetype": "text/x-python",
   "name": "python",
   "nbconvert_exporter": "python",
   "pygments_lexer": "ipython3",
   "version": "3.8.10"
  }
 },
 "nbformat": 4,
 "nbformat_minor": 5
}
