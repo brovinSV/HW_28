{
 "cells": [
  {
   "cell_type": "code",
   "execution_count": null,
   "id": "5823663b",
   "metadata": {},
   "outputs": [],
   "source": [
    "\"\"\"\n",
    "1. Із генеральної сукупності, розподіленої за нормальним законом, отримано вибірку об'ємом n = 20.\n",
    "x_i = [1, 2, 4, 6, 7], n_i = [2, 3, 10, 3, 2].\n",
    "Знайти з надійністю y=0,95 інтервальну оцінку для середнього квадратичного відхилиння sigma генеральної сукупності.\n",
    "\"\"\""
   ]
  },
  {
   "cell_type": "code",
   "execution_count": null,
   "id": "0959bda4",
   "metadata": {},
   "outputs": [],
   "source": []
  }
 ],
 "metadata": {
  "kernelspec": {
   "display_name": "Python 3",
   "language": "python",
   "name": "python3"
  },
  "language_info": {
   "codemirror_mode": {
    "name": "ipython",
    "version": 3
   },
   "file_extension": ".py",
   "mimetype": "text/x-python",
   "name": "python",
   "nbconvert_exporter": "python",
   "pygments_lexer": "ipython3",
   "version": "3.8.10"
  }
 },
 "nbformat": 4,
 "nbformat_minor": 5
}
