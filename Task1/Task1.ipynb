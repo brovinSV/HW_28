{
 "cells": [
  {
   "cell_type": "code",
   "execution_count": null,
   "id": "3268d6e5",
   "metadata": {},
   "outputs": [],
   "source": [
    "\"\"\"\n",
    "1. Із генеральної сукупності, розподіленої за нормальним законом, отримано вибірку об'ємом n = 20.\n",
    "x_i = [1, 2, 4, 6, 7], n_i = [2, 3, 10, 3, 2].\n",
    "Знайти з надійністю y=0,95 інтервальну оцінку для середнього квадратичного відхилиння sigma генеральної сукупності.\n",
    "\"\"\""
   ]
  },
  {
   "cell_type": "code",
   "execution_count": 2,
   "id": "fea8bbb8",
   "metadata": {},
   "outputs": [],
   "source": [
    "# Для вирішення цього завдання скористаємося розподілом Пірсона\n",
    "import numpy as np\n",
    "from scipy.stats import chi2"
   ]
  },
  {
   "cell_type": "code",
   "execution_count": 4,
   "id": "a2b4f1c8",
   "metadata": {},
   "outputs": [],
   "source": [
    "# дані\n",
    "x = np.array([1, 2, 4, 6, 7])\n",
    "n = np.array([2, 3, 10, 3, 2])\n",
    "y = 0.95  # надійність"
   ]
  },
  {
   "cell_type": "code",
   "execution_count": 5,
   "id": "1a4e5e7e",
   "metadata": {},
   "outputs": [
    {
     "name": "stdout",
     "output_type": "stream",
     "text": [
      "4.0\n"
     ]
    }
   ],
   "source": [
    "# вибіркове середнє\n",
    "x_mean = np.average(x, weights=n)\n",
    "print(x_mean)"
   ]
  },
  {
   "cell_type": "code",
   "execution_count": 6,
   "id": "30886493",
   "metadata": {},
   "outputs": [
    {
     "name": "stdout",
     "output_type": "stream",
     "text": [
      "1.7320508075688772\n"
     ]
    }
   ],
   "source": [
    "# вибіркове середнє квадратичне відхилення\n",
    "s = np.sqrt(np.average((x - x_mean) ** 2, weights=n))\n",
    "print(s)"
   ]
  },
  {
   "cell_type": "code",
   "execution_count": 8,
   "id": "cd1a6e91",
   "metadata": {},
   "outputs": [
    {
     "name": "stdout",
     "output_type": "stream",
     "text": [
      "Інтервал сигма-концентрації: [0.35, 0.50]\n"
     ]
    }
   ],
   "source": [
    "# інтервал сигма-концентрації\n",
    "df = np.sum(n) - 1\n",
    "chi2_low = chi2.ppf((1 - y) / 2, df=df) / (n - 1)\n",
    "chi2_high = chi2.ppf((1 + y) / 2, df=df) / (n - 1)\n",
    "sigma_ci = s / np.sqrt(chi2_high - chi2_low)\n",
    "print(f\"Інтервал сигма-концентрації: [{sigma_ci[0]:.2f}, {sigma_ci[1]:.2f}]\")"
   ]
  },
  {
   "cell_type": "code",
   "execution_count": null,
   "id": "034d9031",
   "metadata": {},
   "outputs": [],
   "source": []
  }
 ],
 "metadata": {
  "kernelspec": {
   "display_name": "Python 3",
   "language": "python",
   "name": "python3"
  },
  "language_info": {
   "codemirror_mode": {
    "name": "ipython",
    "version": 3
   },
   "file_extension": ".py",
   "mimetype": "text/x-python",
   "name": "python",
   "nbconvert_exporter": "python",
   "pygments_lexer": "ipython3",
   "version": "3.8.10"
  }
 },
 "nbformat": 4,
 "nbformat_minor": 5
}
